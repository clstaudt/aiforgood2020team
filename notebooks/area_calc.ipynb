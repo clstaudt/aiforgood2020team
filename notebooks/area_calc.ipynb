{
 "cells": [
  {
   "cell_type": "code",
   "execution_count": 1,
   "metadata": {},
   "outputs": [],
   "source": [
    "import ee\n",
    "import pandas as pd\n",
    "import geopandas as gpd\n",
    "from shapely.geometry import Point, Polygon\n",
    "ee.Initialize()\n",
    "\n",
    "def fc2dfgeo(fc):\n",
    "\n",
    "    features = ee.FeatureCollection(fc).getInfo()['features']\n",
    "\n",
    "    dictarr = []\n",
    "\n",
    "    for f in features:\n",
    "        attr = f['properties']\n",
    "        attr['geometry'] = f['geometry']\n",
    "        dictarr.append(attr)\n",
    "\n",
    "    df = gpd.GeoDataFrame(dictarr)\n",
    "    return df"
   ]
  },
  {
   "cell_type": "code",
   "execution_count": 25,
   "metadata": {},
   "outputs": [
    {
     "name": "stdout",
     "output_type": "stream",
     "text": [
      "[9.73403374e-07]\n"
     ]
    }
   ],
   "source": [
    "region_coords = [-7.471699, -56.010816, -6.606240, -54.886091]\n",
    "region=ee.Geometry.Rectangle(region_coords)\n",
    "\n",
    "df = fc2dfgeo(region)\n",
    "\n",
    "gf = gpd.GeoDataFrame()\n",
    "gf[\"geometry\"] = None\n",
    "gf.loc[0, 'geometry'] = Polygon(df['geometry'][0]['coordinates'][0])\n",
    "\n",
    "print(gf.area.values / 10**6)"
   ]
  },
  {
   "cell_type": "code",
   "execution_count": null,
   "metadata": {},
   "outputs": [],
   "source": []
  }
 ],
 "metadata": {
  "kernelspec": {
   "display_name": "Python 3",
   "language": "python",
   "name": "python3"
  },
  "language_info": {
   "codemirror_mode": {
    "name": "ipython",
    "version": 3
   },
   "file_extension": ".py",
   "mimetype": "text/x-python",
   "name": "python",
   "nbconvert_exporter": "python",
   "pygments_lexer": "ipython3",
   "version": "3.7.7"
  }
 },
 "nbformat": 4,
 "nbformat_minor": 4
}
